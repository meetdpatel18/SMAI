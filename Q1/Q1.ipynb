{
 "cells": [
  {
   "cell_type": "markdown",
   "metadata": {},
   "source": [
    "# SMAI Assignment - 2\n",
    "\n",
    "## Question - `1` : Clustering\n",
    "\n",
    "| | |\n",
    "|- | -|\n",
    "| Course | Statistical Methods in AI |\n",
    "| Release Date | `16.02.2023` |\n",
    "| Due Date | `24.02.2023` |"
   ]
  },
  {
   "cell_type": "markdown",
   "metadata": {
    "id": "vpWQigP0msj9"
   },
   "source": [
    "**Part 1:** \n",
    "\n",
    "Use the **Fashion-MNIST** dataset for this question.\n",
    "\n",
    "**About the dataset:**\n",
    "Each image is 28 pixels in height and 28 pixels in width, for a total of 784 pixels in total. Each pixel has a single pixel-value associated with it, indicating the lightness or darkness of that pixel, with higher numbers meaning darker. This pixel-value is an integer between 0 and 255. The training and test data sets have 785 columns. The first column consists of the class labels (see above), and represents the article of clothing. The rest of the columns contain the pixel-values of the associated image. You can check out the dataset here: https://www.kaggle.com/datasets/zalando-research/fashionmnist\n",
    "\n",
    "1a) Load the dataset and use the K Means algorithm **(You are allowed to use the library)**. You need to find the optimal number of clusters using the\n",
    "> i) elbow method\n",
    "    >> Plot the graph between average distance and the number of clusters graph while using the elbow method. Report the optimal number of clusters found.\n",
    "\n",
    "> ii) silhoette method\n",
    "    >> Plot the graph between silhoutte score and number of clusters using silhoette method. Report the optimal number of clusters found.\n",
    "\n",
    "1b) Experiment with different cluster initialisation methods [k-means++, forgy (\"random\" in sklearn)].\n",
    "\n",
    "\n",
    "1c) Visualize the dataset to depict the clusters formed. (prefer T-SNE)\n",
    "\n",
    "</br>\n",
    "</br>\n",
    "</br>\n",
    "</br>\n",
    "\n",
    "\n",
    "**Part 2:**\n",
    "</br>\n",
    "In this task, you need to implement Hierarchical clustering (agglomerative) on the same dataset.\n",
    "\n",
    "2a) visualize a dendogram and find out the optimal number of clusters with the help of Dendogram. Explain the procedure.\n",
    "\n",
    "\n",
    "2b) Implement Hierarchical clustering using: </br>\n",
    "> i) single linkage\n",
    "\n",
    "> ii) Complete linkage\n",
    "\n",
    "Visualize the clusters obtained using these linkages and compare. \n",
    "\n",
    "</br>\n",
    "</br>\n",
    "</br>\n",
    "</br>\n",
    "\n",
    "**Part 3:**\n",
    "</br>\n",
    "In this part, we’ll implement kmeans to compress an image. In an original image each pixel has 3 8-bit integers, therefore the size of the image is **3 x height x width x 8**. Our task is to compress the image where it only comprises of **k** unique colors, where k = number of clusters formed by the algorithm where each pixel is a 3D datapoint. Therefore the new compressed image can be stored in **k x 24 + width x height x b**. (b -> number of bits used to represent the integer *k*, since each pixel will have a color value from 0 to k-1). Now your task is to experiment with different values of k (atleast 3) and show the compressed image along with the value of data reduction (in terms of bits). \n",
    "\n",
    "(an example image has been provided in the folder)"
   ]
  },
  {
   "cell_type": "markdown",
   "metadata": {
    "id": "-xOn_5pnk1uI"
   },
   "source": [
    "## Part1: K Means"
   ]
  },
  {
   "cell_type": "code",
   "execution_count": null,
   "metadata": {
    "id": "yY8uMDe9quTE"
   },
   "outputs": [],
   "source": [
    "#implement elbow method from scratch\n",
    "def elbow():\n"
   ]
  },
  {
   "cell_type": "code",
   "execution_count": null,
   "metadata": {
    "id": "32x9M36qq2fO"
   },
   "outputs": [],
   "source": [
    "#implement silhouette method from scratch\n",
    "def silhouette():\n",
    "\n"
   ]
  },
  {
   "cell_type": "code",
   "execution_count": null,
   "metadata": {
    "id": "6j7nYmipmrC6"
   },
   "outputs": [],
   "source": [
    "from keras.datasets import fashion_mnist\n",
    "(trainX, trainy), (testX, testy) = fashion_mnist.load_data()\n",
    "\n",
    "# you can performs your training on train/test dataset alone if there are computational issues"
   ]
  },
  {
   "cell_type": "markdown",
   "metadata": {
    "id": "y4xDlZiaxs56"
   },
   "source": [
    "## Part2: Hierarchical clustering"
   ]
  },
  {
   "cell_type": "code",
   "execution_count": null,
   "metadata": {
    "id": "3teXlnf1xZZF"
   },
   "outputs": [],
   "source": [
    "# implement hierarchical clustering ( you can use scikit module)\n",
    "import scipy.cluster.hierarchy as sch\n",
    "from sklearn.cluster import AgglomerativeClustering\n",
    "def hierarchical_clustering():\n",
    "\n",
    "\n"
   ]
  },
  {
   "cell_type": "code",
   "execution_count": null,
   "metadata": {
    "id": "wmTODerdxlht"
   },
   "outputs": [],
   "source": [
    "#visualize a dendogram\n",
    "\n",
    "def dendogram():\n",
    "\n",
    "\n",
    "  "
   ]
  },
  {
   "cell_type": "markdown",
   "metadata": {
    "id": "zhYTSCC-xx4T"
   },
   "source": [
    "**Question**: Explain the procedure to find the optimal number of clusters using dendogram\n",
    "\n",
    "Answer: </br>\n",
    "</br>\n",
    "</br>\n",
    "</br>\n",
    "\n",
    "\n",
    "\n"
   ]
  },
  {
   "cell_type": "code",
   "execution_count": null,
   "metadata": {
    "id": "ujBgFKzwyLWb"
   },
   "outputs": [],
   "source": [
    "#visualisation of clusters using single linkage and complete linkage\n",
    "\n",
    "\n",
    "\n"
   ]
  },
  {
   "cell_type": "markdown",
   "metadata": {
    "id": "WU459HN1yYHj"
   },
   "source": [
    "**Question:** Mention the differences observed using single and complete linkage:\n",
    "\n",
    "Answer: </br>\n",
    "</br>\n",
    "</br>\n",
    "</br>"
   ]
  },
  {
   "cell_type": "markdown",
   "metadata": {
    "id": "vIKbpZ0Lk1uZ"
   },
   "source": [
    "## Part3: Image Compression"
   ]
  },
  {
   "cell_type": "code",
   "execution_count": null,
   "metadata": {
    "id": "pvftTSRPk1ub"
   },
   "outputs": [],
   "source": [
    "# Boiler plate code\n",
    "img = cv2.imread('dog.jpg')\n",
    "img = cv2.cvtColor(img, cv2.COLOR_BGR2RGB)\n",
    "# cv2_imshow(img)\n",
    "img_size = img.shape\n",
    "\n",
    "# Reshape it to be 2-dimension\n",
    "X = img.reshape(img_size[0] * img_size[1], img_size[2])"
   ]
  }
 ],
 "metadata": {
  "colab": {
   "provenance": []
  },
  "kernelspec": {
   "display_name": "Python 3 (ipykernel)",
   "language": "python",
   "name": "python3"
  },
  "language_info": {
   "codemirror_mode": {
    "name": "ipython",
    "version": 3
   },
   "file_extension": ".py",
   "mimetype": "text/x-python",
   "name": "python",
   "nbconvert_exporter": "python",
   "pygments_lexer": "ipython3",
   "version": "3.9.15"
  }
 },
 "nbformat": 4,
 "nbformat_minor": 4
}
